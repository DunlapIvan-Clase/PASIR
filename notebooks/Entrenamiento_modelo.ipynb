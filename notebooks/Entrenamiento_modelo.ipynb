{
  "nbformat": 4,
  "nbformat_minor": 0,
  "metadata": {
    "colab": {
      "provenance": []
    },
    "kernelspec": {
      "name": "python3",
      "display_name": "Python 3"
    },
    "language_info": {
      "name": "python"
    }
  },
  "cells": [
    {
      "cell_type": "markdown",
      "source": [
        "Este notebook sirve para entrenar un modelo **LLM** basado en Mistral para clasificar atacantes en análisis de tráfico de red de forma guiada. Para usar el modelo es necesario un entorno que cuente con una GPU potente (se ha probado con una GPU T4)\n",
        "\n",
        "Si se usa en la plataforma Google Colab, es útil montar Google Drive y crear un directorio en el que trabajar, en todo caso deben de consultarse las rutas utilizadas en este ejemplo y adaptarse.\n",
        "\n",
        "Se utiliza la herramienta axolotl para conseguir entrenar el modelo y ajustar los parámetros de forma más cómoda.\n",
        "\n",
        "El notebook se basa en el trabajo de Dhruti Davey y su repositorio de github https://github.com/dhd2000/DissertationFiles\n",
        "\n",
        "\n",
        "El resultado es un directorio \"qlora.out\" que contiene el modelo, el cuál se puede probar utilizando el notebook \"Prueba_modelo.ipynb\"\n",
        "\n",
        "\n",
        "*Ivan Dunlap, 2024*"
      ],
      "metadata": {
        "id": "OmR412o8od13"
      }
    },
    {
      "cell_type": "markdown",
      "source": [
        "## PASO 1: instalación de dependencias necesarias en el entorno\n",
        "Para ejecutar este notebook, es necesario instalar varias dependencias. A continuación, se muestra el código para instalar estas dependencias en el entorno de ejecución."
      ],
      "metadata": {
        "id": "J087w4Onplzi"
      }
    },
    {
      "cell_type": "code",
      "source": [
        "%cd /content/drive/MyDrive/PASIR/model\n",
        "!pip install torch torchvision torchaudio\n",
        "!pip install datasets\n",
        "!pip install transformers\n",
        "!pip install aggregate\n",
        "!pip install accelerate\n",
        "!pip install flash_attn\n",
        "!pip install argparse\n",
        "!pip install -e git+https://github.com/OpenAccess-AI-Collective/axolotl#egg=axolotl\n",
        "!pip install huggingface_hub==0.23.3"
      ],
      "metadata": {
        "id": "e-57uyUhpqnK"
      },
      "execution_count": null,
      "outputs": []
    },
    {
      "cell_type": "markdown",
      "source": [
        "## PASO 2: autenticación en Hugging Face (ver sección obtención de token)\n",
        "\n",
        "Para utilizar modelos de la plataforma Hugging Face, es necesario obtener un token y logearse."
      ],
      "metadata": {
        "id": "txcArtTRps1J"
      }
    },
    {
      "cell_type": "code",
      "source": [
        "from huggingface_hub import notebook_login\n",
        "notebook_login()"
      ],
      "metadata": {
        "id": "l5T4TYDRpxrT"
      },
      "execution_count": null,
      "outputs": []
    },
    {
      "cell_type": "markdown",
      "source": [
        "## PASO 3: clonar los repositorios necesarios\n",
        "Esta serie de repositorios es necesaria para crear el modelo."
      ],
      "metadata": {
        "id": "jt01gEmjp4zF"
      }
    },
    {
      "cell_type": "code",
      "source": [
        "!git clone https://github.com/dhd2000/DissertationFiles.git\n",
        "!git clone https://github.com/KayvanKarim/ntfa.git\n",
        "!git clone https://github.com/OpenAccess-AI-Collective/axolotl.git\n",
        "!git clone https://github.com/DunlapIvan-Clase/PASIR.git"
      ],
      "metadata": {
        "id": "6iEDRfUVqGc6"
      },
      "execution_count": null,
      "outputs": []
    },
    {
      "cell_type": "markdown",
      "source": [
        "## PASO 4: descarga y extracción del dataset CIDDS\n",
        "\n",
        "Para hacer fine-tuning a nuestro modelo base (Mistral) vamos a utilizar un dataset con tráfico previamente etiquetado, como el Intrusion detection evaluation dataset (CIC-IDS2017), en este paso se descarga y se extrae, en caso de ya contar con el o usar otro similar, omitir este paso.\n",
        "\n",
        "El dataset es un fichero csv con el tráfico etiquetado de la siguiente forma:\n",
        "\n",
        "\n",
        "\n",
        "```\n",
        "2017-03-24 12:52:33.504,    0.000,TCP  ,10998_36,   443,192.168.220.16, 40858,       1,      66,    1,.A...., 32,normal,---,---,---\n",
        "2017-03-24 12:52:32.711,    0.000,TCP  ,10056_186,   443,192.168.220.4, 37516,       1,      66,    1,.A...., 32,normal,---,---,---\n",
        "2017-03-24 12:52:32.617,    0.000,ICMP ,192.168.220.1,     0,192.168.220.15,   3.1,       1,      70,    1,......,192,victim,pingScan,52,nmap args: -n -sP -PE -T 1\n",
        "```\n",
        "\n"
      ],
      "metadata": {
        "id": "LajlR35IqpRx"
      }
    },
    {
      "cell_type": "code",
      "source": [
        "!wget https://www.hs-coburg.de/fileadmin/hscoburg/WISENT-CIDDS-001.zip -O WISENT-CIDDS-001.zip\n",
        "!unzip WISENT-CIDDS-001.zip -d ./CIDDS-001"
      ],
      "metadata": {
        "id": "MiAvbHULrBPv"
      },
      "execution_count": null,
      "outputs": []
    },
    {
      "cell_type": "markdown",
      "source": [
        "## PASO 5: procesar los datos para entrenar el modelo\n",
        "\n",
        "Una vez tengamos nuestro dataset, debemos procesarlo para que nuestro modelo lo entienda, para ello nos valemos de una serie de scripts en cadena.\n",
        "\n",
        "A la hora de ejecutar el script ntfa, si no disponemos de un fichero de configuración json, debemos de configurar el índice de cada columna de nuestro dataset para que el script la reconozca.\n",
        "\n",
        "El resultado de la ejecución de esta celda, debe crear un fichero \"output.jsonl\" que tendrá un contenido similar a este:\n",
        "\n",
        "\n",
        "\n",
        "```\n",
        "{\"instruction\": \"Check if the given traffic flow is normal or of an attacker or a victim\", \"input\": \"Start Frame: 2017-03-15T00:01:16.632000, End Frame: 2017-03-15T00:02:16.632000, Source IP: 192.168.100.5, Duration: 0.0, Protocol: 1, Source Port: 1, Destination IP: 14, Destination Port: 14, Number of Packets: 17\", \"output\": \"normal\"}\n",
        "{\"instruction\": \"Check if the given traffic flow is normal or of an attacker or a victim\", \"input\": \"Start Frame: 2017-03-15T00:01:16.632000, End Frame: 2017-03-15T00:02:16.632000, Source IP: 192.168.220.15, Duration: 0.047, Protocol: 1, Source Port: 2, Destination IP: 2, Destination Port: 2, Number of Packets: 6\", \"output\": \"attacker\"}\n",
        "{\"instruction\": \"Check if the given traffic flow is normal or of an attacker or a victim\", \"input\": \"Start Frame: 2017-03-15T00:01:16.632000, End Frame: 2017-03-15T00:02:16.632000, Source IP: 192.168.220.16, Duration: 2.303, Protocol: 2, Source Port: 48, Destination IP: 14, Destination Port: 12, Number of Packets: 179\", \"output\": \"normal\"}\n",
        "```\n",
        "\n"
      ],
      "metadata": {
        "id": "UZBalNdrrN_l"
      }
    },
    {
      "cell_type": "code",
      "source": [
        "import os\n",
        "\n",
        "# Directorio donde se encuentra el archivo CSV\n",
        "traffic_dir = r'./CIDDS-001/CIDDS-001/traffic/OpenStack'\n",
        "\n",
        "# Nombre del archivo específico a utilizar\n",
        "target_csv_file = 'CIDDS-001-internal-week1.csv'\n",
        "\n",
        "target_csv_path = os.path.join(traffic_dir, target_csv_file)\n",
        "\n",
        "!python3 ntfa/ntfa.py {target_csv_path}\n",
        "!python3 DissertationFiles/convert.py output.csv\n",
        "!python3 DissertationFiles/balance_dataset.py output.jsonl"
      ],
      "metadata": {
        "id": "8hfbjr8JuCMd"
      },
      "execution_count": null,
      "outputs": []
    },
    {
      "cell_type": "markdown",
      "source": [
        "## PASO 6: entrenamiento del modelo\n",
        "\n",
        "Cuando se cree el fichero \"output.jsonl\" ya es posible entrenar el modelo, en caso de querer realizar algún cambio en los parametros del fine-tuning es necesario editar el fichero \"config.yaml\"\n",
        "\n",
        "El resultado es el modelo en el directorio \"qlora.out\""
      ],
      "metadata": {
        "id": "o1F7yVUws3sj"
      }
    },
    {
      "cell_type": "code",
      "source": [
        "!mkdir mistral-NIDS/\n",
        "%cd mistral-NIDS/\n",
        "!cp ../DissertationFiles/config/mistral_config.yaml ./config.yaml\n",
        "!sed -i \"s/flash_attention: true/flash_attention: false/\" ./config.yaml # Desactivar flash_attention\n",
        "!accelerate launch -m axolotl.cli.train config.yaml"
      ],
      "metadata": {
        "id": "B91ptCh0tOD0"
      },
      "execution_count": null,
      "outputs": []
    }
  ]
}